{
 "cells": [
  {
   "cell_type": "code",
   "execution_count": 84,
   "id": "625fa4be-5ed8-4a9a-9407-83170a22ec14",
   "metadata": {
    "tags": []
   },
   "outputs": [],
   "source": [
    "import boto3\n",
    "from time import gmtime, strftime\n",
    "\n",
    "sm_client = boto3.client('sagemaker')"
   ]
  },
  {
   "cell_type": "code",
   "execution_count": 85,
   "id": "22748857-1fde-4037-93f9-3855789fa5ea",
   "metadata": {
    "tags": []
   },
   "outputs": [
    {
     "name": "stdout",
     "output_type": "stream",
     "text": [
      "Model name: bedrock-x-roop-2024-06-20-05-36-48\n",
      "Container image: 891376917605.dkr.ecr.us-west-2.amazonaws.com/bedrock-x:latest\n",
      "Model Arn: arn:aws:sagemaker:us-west-2:891376917605:model/bedrock-x-roop-2024-06-20-05-36-48\n"
     ]
    }
   ],
   "source": [
    "# Create Sagemaker Model\n",
    "\n",
    "model_name = 'bedrock-x' + '-roop-' + strftime(\"%Y-%m-%d-%H-%M-%S\", gmtime())\n",
    "container = '891376917605.dkr.ecr.us-west-2.amazonaws.com/bedrock-x-roop:latest'\n",
    "instance_type = 'ml.g4dn.xlarge'\n",
    "\n",
    "print('Model name: ' + model_name)\n",
    "print('Container image: ' + container)\n",
    "\n",
    "create_model_response = sm_client.create_model(\n",
    "    ModelName=model_name,\n",
    "    PrimaryContainer={\n",
    "        'Image': container,\n",
    "        'Environment': {}\n",
    "    },\n",
    "    ExecutionRoleArn='arn:aws:iam::891376917605:role/sm-excution-role-bedrock-x'\n",
    ")\n",
    "\n",
    "print(\"Model Arn: \" + create_model_response['ModelArn'])"
   ]
  },
  {
   "cell_type": "code",
   "execution_count": 86,
   "id": "2fc56c93-2e55-4ad8-80b5-870b6dd71f65",
   "metadata": {
    "tags": []
   },
   "outputs": [
    {
     "name": "stdout",
     "output_type": "stream",
     "text": [
      "Endpoint config name: bedrock-x-roop-2024-06-20-05-36-50\n",
      "Endpoint config Arn: arn:aws:sagemaker:us-west-2:891376917605:endpoint-config/bedrock-x-roop-2024-06-20-05-36-50\n"
     ]
    }
   ],
   "source": [
    "# Create Sagemaker Endpoint Config\n",
    "endpoint_config_name = 'bedrock-x' + '-roop-' + strftime(\"%Y-%m-%d-%H-%M-%S\", gmtime())\n",
    "print('Endpoint config name: ' + endpoint_config_name)\n",
    "\n",
    "create_endpoint_config_response = sm_client.create_endpoint_config(\n",
    "    EndpointConfigName = endpoint_config_name, \n",
    "    ProductionVariants = [{\n",
    "        'ModelName': model_name,\n",
    "        'VariantName': 'AllTraffic',\n",
    "        'InitialInstanceCount': 1,\n",
    "        'InstanceType': instance_type\n",
    "    }])\n",
    "\n",
    "print(\"Endpoint config Arn: \" + create_endpoint_config_response['EndpointConfigArn'])"
   ]
  },
  {
   "cell_type": "code",
   "execution_count": 87,
   "id": "404a8803-e4d9-40d7-b56d-adbf276738f1",
   "metadata": {
    "tags": []
   },
   "outputs": [
    {
     "name": "stdout",
     "output_type": "stream",
     "text": [
      "Endpoint name: bedrock-x-roop-2024-06-20-05-36-53\n",
      "Endpoint Arn: arn:aws:sagemaker:us-west-2:891376917605:endpoint/bedrock-x-roop-2024-06-20-05-36-53\n",
      "Endpoint Status: Creating\n",
      "Waiting for bedrock-x-roop-2024-06-20-05-36-53 endpoint to be in service...\n"
     ]
    }
   ],
   "source": [
    "endpoint_name = 'bedrock-x' + '-roop-' + strftime(\"%Y-%m-%d-%H-%M-%S\", gmtime())\n",
    "print('Endpoint name: ' + endpoint_name)\n",
    "\n",
    "create_endpoint_response = sm_client.create_endpoint(\n",
    "    EndpointName=endpoint_name,\n",
    "    EndpointConfigName=endpoint_config_name)\n",
    "print('Endpoint Arn: ' + create_endpoint_response['EndpointArn'])\n",
    "\n",
    "resp = sm_client.describe_endpoint(EndpointName=endpoint_name)\n",
    "status = resp['EndpointStatus']\n",
    "print(\"Endpoint Status: \" + status)\n",
    "\n",
    "print('Waiting for {} endpoint to be in service...'.format(endpoint_name))\n",
    "waiter = sm_client.get_waiter('endpoint_in_service')\n",
    "waiter.wait(EndpointName=endpoint_name)"
   ]
  },
  {
   "cell_type": "code",
   "execution_count": 88,
   "id": "90c757f6-132f-40ed-b4e8-45bcea43fbd1",
   "metadata": {
    "tags": []
   },
   "outputs": [
    {
     "data": {
      "text/plain": [
       "{'bucket': 'bedrock-x-sm-shared',\n",
       " 'output': 'images/output/output.png',\n",
       " 'source': 'images/source/source.png',\n",
       " 'target': 'images/target/target.png',\n",
       " 'uuid': 'jungseob'}"
      ]
     },
     "execution_count": 88,
     "metadata": {},
     "output_type": "execute_result"
    }
   ],
   "source": [
    "import json\n",
    "\n",
    "runtime_sm_client = boto3.client(service_name='sagemaker-runtime')\n",
    "\n",
    "content_type = \"application/json\"\n",
    "request_body = {\n",
    "    \"uuid\": \"jungseob\", \n",
    "    \"bucket\": \"bedrock-x-sm-shared\", \n",
    "    \"source\": \"images/source/source.png\", \n",
    "    \"target\": \"images/target/target.png\", \n",
    "    \"output\": \"images/output/output.png\"\n",
    "}\n",
    "\n",
    "payload = json.dumps(request_body)\n",
    "\n",
    "#Endpoint invocation\n",
    "response = runtime_sm_client.invoke_endpoint(\n",
    "    EndpointName=endpoint_name,\n",
    "    ContentType=content_type,\n",
    "    Body=payload)\n",
    "\n",
    "#Parse results\n",
    "result = json.loads(response['Body'].read().decode())\n",
    "result"
   ]
  },
  {
   "cell_type": "code",
   "execution_count": null,
   "id": "548108f6-ae2d-41c5-887f-9082571d7fd2",
   "metadata": {},
   "outputs": [],
   "source": []
  }
 ],
 "metadata": {
  "kernelspec": {
   "display_name": "conda_tensorflow2_p310",
   "language": "python",
   "name": "conda_tensorflow2_p310"
  },
  "language_info": {
   "codemirror_mode": {
    "name": "ipython",
    "version": 3
   },
   "file_extension": ".py",
   "mimetype": "text/x-python",
   "name": "python",
   "nbconvert_exporter": "python",
   "pygments_lexer": "ipython3",
   "version": "3.10.14"
  }
 },
 "nbformat": 4,
 "nbformat_minor": 5
}
